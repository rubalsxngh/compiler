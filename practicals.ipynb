{
 "cells": [
  {
   "cell_type": "code",
   "execution_count": 6,
   "metadata": {},
   "outputs": [
    {
     "name": "stdout",
     "output_type": "stream",
     "text": [
      "['i', '+', 'i', '+', 'i']\n",
      "Valid expression\n"
     ]
    }
   ],
   "source": [
    "#recursive decent parser    \n",
    "#dont allow nondeterministic grammar\n",
    "#dont allow left recursion\n",
    "\n",
    "#grammar\n",
    "#E->iE'\n",
    "#E'->+iE'|e\n",
    "\n",
    "def parse_E(tokens):\n",
    "    parse_i(tokens)\n",
    "    parse_E_prime(tokens)\n",
    "\n",
    "def parse_E_prime(tokens):\n",
    "    if tokens and tokens[0] == '+':\n",
    "        tokens.pop(0)  \n",
    "        parse_i(tokens)\n",
    "        parse_E_prime(tokens)\n",
    "\n",
    "def parse_i(tokens):\n",
    "    if tokens and tokens[0] == 'i':\n",
    "        tokens.pop(0)\n",
    "    else:\n",
    "        raise SyntaxError(\"Invalid expression\")\n",
    "\n",
    "def parse(expression):\n",
    "    tokens = list(expression)\n",
    "    print(tokens)\n",
    "    try:\n",
    "        parse_E(tokens)\n",
    "        if not tokens:\n",
    "            print(\"Valid expression\")\n",
    "        else:\n",
    "            raise SyntaxError(\"Invalid expression\")\n",
    "    except SyntaxError as e:\n",
    "        print(e)\n",
    "\n",
    "\n",
    "\n",
    "expr = input(\"Enter expression: \")\n",
    "parse(expr)\n",
    "    \n",
    "\n",
    "\n",
    "\n",
    "\n"
   ]
  },
  {
   "cell_type": "code",
   "execution_count": 12,
   "metadata": {},
   "outputs": [
    {
     "name": "stdout",
     "output_type": "stream",
     "text": [
      "Comments removed and modified program saved to modified_program.py\n"
     ]
    }
   ],
   "source": [
    "#code to remove single and multiline comments from a python program\n",
    "#plus remove all whitespaces\n",
    "\n",
    "import re\n",
    "\n",
    "def remove_comments(program):\n",
    "    # Remove single-line comments\n",
    "    program = re.sub(r'#.*', '', program)\n",
    "\n",
    "    # Remove multi-line comments\n",
    "    program = re.sub(r'\"\"\".*?\"\"\"', '', program, flags=re.DOTALL)\n",
    "\n",
    "    return program\n",
    "\n",
    "# Example usage\n",
    "input_file = 'program.py'\n",
    "output_file = 'modified_program.py'\n",
    "\n",
    "# Read the input program from the file\n",
    "with open(input_file, 'r') as file:\n",
    "    sample_program = file.read()\n",
    "\n",
    "# Remove comments from the program\n",
    "modified_program = remove_comments(sample_program)\n",
    "\n",
    "# Write the modified program to the output file\n",
    "with open(output_file, 'w') as file:\n",
    "    file.write(modified_program)\n",
    "\n",
    "print(\"Comments removed and modified program saved to\", output_file)\n",
    "\n",
    "output1_file = 'output.py'\n",
    "\n",
    "with open(output_file, \"r\") as file_in:\n",
    "    with open(output1_file, \"w\") as file_out:\n",
    "        content = \"\".join(line.strip() for line in file_in)\n",
    "\n",
    "        # Write the modified content to the output file\n",
    "        file_out.write(content)\n"
   ]
  },
  {
   "cell_type": "code",
   "execution_count": 16,
   "metadata": {},
   "outputs": [
    {
     "name": "stdout",
     "output_type": "stream",
     "text": [
      "x a + b + c + d\n",
      "Three-address code:\n",
      "t1 = a + b\n",
      "t2 = t1 + c\n",
      "t3 = t2 + d\n",
      "x = t3\n"
     ]
    }
   ],
   "source": [
    "#code to genearte three address code from a given expression\n",
    "\n",
    "class ThreeAddressCodeGenerator:\n",
    "    def __init__(self):\n",
    "        self.temp_counter = 1\n",
    "        self.code = []\n",
    "\n",
    "    def generate_temp(self):\n",
    "        temp = f\"t{self.temp_counter}\"\n",
    "        self.temp_counter += 1\n",
    "        return temp\n",
    "\n",
    "    def generate_code(self, entry):\n",
    "        parts = entry.split(\"=\")\n",
    "        result = parts[0].strip()\n",
    "        expression = parts[1].strip()\n",
    "\n",
    "        operators = ['+', '-', '*', '/']\n",
    "        tokens = re.findall(r'\\b\\w+\\b|[+\\-*/]', expression)\n",
    "\n",
    "        while len(tokens) > 1:\n",
    "            operand1 = tokens.pop(0)\n",
    "            operator = tokens.pop(0)\n",
    "            operand2 = tokens.pop(0)\n",
    "\n",
    "            temp = self.generate_temp()\n",
    "            code_line = f\"{temp} = {operand1} {operator} {operand2}\"\n",
    "            self.code.append(code_line)\n",
    "\n",
    "            tokens.insert(0, temp)\n",
    "\n",
    "        final_code = f\"{result} = {tokens[0]}\"\n",
    "        self.code.append(final_code)\n",
    "\n",
    "    def display_code(self):\n",
    "        for line in self.code:\n",
    "            print(line)\n",
    "\n",
    "def convert_to_three_address_code(expression):\n",
    "    generator = ThreeAddressCodeGenerator()\n",
    "    entries = expression.split(\";\")\n",
    "\n",
    "    for entry in entries:\n",
    "        generator.generate_code(entry)\n",
    "\n",
    "    print(\"Three-address code:\")\n",
    "    generator.display_code()\n",
    "\n",
    "# Example usage\n",
    "expression = \"x = a + b + c + d\"\n",
    "convert_to_three_address_code(expression)\n"
   ]
  },
  {
   "cell_type": "code",
   "execution_count": 38,
   "metadata": {},
   "outputs": [
    {
     "name": "stdout",
     "output_type": "stream",
     "text": [
      "Positive\n",
      "Positive\n",
      "Non-positive\n"
     ]
    }
   ],
   "source": [
    "# Original if-else statement\n",
    "x = 10\n",
    "if x > 0:\n",
    "    print(\"Positive\")\n",
    "else:\n",
    "    print(\"Non-positive\")\n",
    "\n",
    "# Converted while loop\n",
    "x = 10\n",
    "while_condition = x > 0\n",
    "\n",
    "while while_condition:\n",
    "    print(\"Positive\")\n",
    "    while_condition = False\n",
    "else:\n",
    "    print(\"Non-positive\")\n"
   ]
  },
  {
   "cell_type": "code",
   "execution_count": 41,
   "metadata": {},
   "outputs": [
    {
     "name": "stdout",
     "output_type": "stream",
     "text": [
      "\n",
      "#define 3.14 3.14\n",
      "#define CIRCLE_AREA(5) 3.14 * 5 * 5\n",
      "\n",
      "float calculate_area(float 5) {\n",
      "    return CIRCLE_AREA(5);\n",
      "}\n",
      "\n"
     ]
    }
   ],
   "source": [
    "#code to convert macro expansions\n",
    "\n",
    "def perform_macro_expansion(input_string):\n",
    "    macro_definitions = {\n",
    "        \"PI\": \"3.14\",\n",
    "        \"radius\": \"5\"\n",
    "    }\n",
    "\n",
    "    # Regular expression pattern to match macro names\n",
    "    pattern = r\"\\b\\w+\\b\"\n",
    "\n",
    "    # Find all occurrences of macro names in the input string\n",
    "    macro_names = re.findall(pattern, input_string)\n",
    "\n",
    "    # Iterate over the macro names and substitute their values\n",
    "    for macro_name in macro_names:\n",
    "        if macro_name in macro_definitions:\n",
    "            macro_value = macro_definitions[macro_name]\n",
    "            input_string = input_string.replace(macro_name, macro_value)\n",
    "\n",
    "    return input_string\n",
    "\n",
    "# Example usage\n",
    "input_string = \"\"\"\n",
    "#define PI 3.14\n",
    "#define CIRCLE_AREA(radius) PI * radius * radius\n",
    "\n",
    "float calculate_area(float radius) {\n",
    "    return CIRCLE_AREA(radius);\n",
    "}\n",
    "\"\"\"\n",
    "\n",
    "expanded_string = perform_macro_expansion(input_string)\n",
    "print(expanded_string)\n"
   ]
  },
  {
   "cell_type": "code",
   "execution_count": 42,
   "metadata": {},
   "outputs": [
    {
     "name": "stdout",
     "output_type": "stream",
     "text": [
      "Input string does not match regular expression 'aa+b* + c+a*b'\n",
      "Input string does not match regular expression '(cb*c + b+e*bc)*'\n"
     ]
    }
   ],
   "source": [
    "#regex matching\n",
    "\n",
    "import re\n",
    "\n",
    "def check_matching(input_string):\n",
    "    regex_a = r\"aa+b*\\+c\\+a\\*b\"\n",
    "    regex_b = r\"(cb\\*c\\+b\\+e\\*bc)\\*\"\n",
    "\n",
    "    if re.fullmatch(regex_a, input_string):\n",
    "        print(\"Input string matches regular expression 'aa+b* + c+a*b'\")\n",
    "    else:\n",
    "        print(\"Input string does not match regular expression 'aa+b* + c+a*b'\")\n",
    "\n",
    "    if re.fullmatch(regex_b, input_string):\n",
    "        print(\"Input string matches regular expression '(cb*c + b+e*bc)*'\")\n",
    "    else:\n",
    "        print(\"Input string does not match regular expression '(cb*c + b+e*bc)*'\")\n",
    "\n",
    "# Example usage\n",
    "input_string = \"aaabbb+c+abb\"\n",
    "check_matching(input_string)\n"
   ]
  },
  {
   "attachments": {},
   "cell_type": "markdown",
   "metadata": {},
   "source": [
    "the extra programs start from here"
   ]
  },
  {
   "cell_type": "code",
   "execution_count": 17,
   "metadata": {},
   "outputs": [
    {
     "name": "stdout",
     "output_type": "stream",
     "text": [
      "Enter the production:\n",
      "Left recursion found:\n",
      "E' -> ibE' | e\n",
      "E ->E'\n"
     ]
    }
   ],
   "source": [
    "def check_left_recursion(production):\n",
    "    c = production[0]\n",
    "    if production[2] == c:\n",
    "        print(\"Left recursion found:\")\n",
    "        print(f\"{c}' -> \", end=\"\")\n",
    "        for k in range(3, len(production)):\n",
    "            if production[k] != '|':\n",
    "                print(production[k], end=\"\")\n",
    "        print(f\"{c}' | e\")\n",
    "        n = k\n",
    "        print(f\"{c} ->\", end=\"\")\n",
    "        for k in range(n + 1, len(production)):\n",
    "            if production[k] != '\\0':\n",
    "                print(production[k], end=\"\")\n",
    "        print(f\"{c}'\")\n",
    "    else:\n",
    "        print(\"No left recursion!!\")\n",
    "\n",
    "\n",
    "def main():\n",
    "    n = 1\n",
    "    a = [\"\"]\n",
    "    print(\"Enter the production:\")\n",
    "    for i in range(n):\n",
    "        a[i] = input().strip()\n",
    "\n",
    "    check_left_recursion(a[0])\n",
    "\n",
    "\n",
    "if __name__ == \"__main__\":\n",
    "    main()\n"
   ]
  }
 ],
 "metadata": {
  "kernelspec": {
   "display_name": "base",
   "language": "python",
   "name": "python3"
  },
  "language_info": {
   "codemirror_mode": {
    "name": "ipython",
    "version": 3
   },
   "file_extension": ".py",
   "mimetype": "text/x-python",
   "name": "python",
   "nbconvert_exporter": "python",
   "pygments_lexer": "ipython3",
   "version": "3.10.9"
  },
  "orig_nbformat": 4
 },
 "nbformat": 4,
 "nbformat_minor": 2
}
